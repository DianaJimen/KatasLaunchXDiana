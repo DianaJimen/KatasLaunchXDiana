{
  "cells": [
    {
      "cell_type": "code",
      "execution_count": 3,
      "metadata": {},
      "outputs": [
        {
          "name": "stdout",
          "output_type": "stream",
          "text": [
            "3\n"
          ]
        }
      ],
      "source": [
        "# program. py\n",
        "\n",
        "sum = 1 + 2\n",
        "print (sum)"
      ]
    },
    {
      "cell_type": "code",
      "execution_count": 4,
      "metadata": {},
      "outputs": [
        {
          "ename": "SyntaxError",
          "evalue": "invalid syntax (647041835.py, line 1)",
          "output_type": "error",
          "traceback": [
            "\u001b[1;36m  Input \u001b[1;32mIn [4]\u001b[1;36m\u001b[0m\n\u001b[1;33m    python 3 program. py\u001b[0m\n\u001b[1;37m           ^\u001b[0m\n\u001b[1;31mSyntaxError\u001b[0m\u001b[1;31m:\u001b[0m invalid syntax\n"
          ]
        }
      ],
      "source": [
        "python 3 program. py"
      ]
    },
    {
      "cell_type": "markdown",
      "metadata": {},
      "source": [
        "# Impresión en pantalla print('Hola desde la consola')"
      ]
    },
    {
      "cell_type": "code",
      "execution_count": 5,
      "metadata": {},
      "outputs": [
        {
          "name": "stdout",
          "output_type": "stream",
          "text": [
            "Hola desde la consola\n"
          ]
        }
      ],
      "source": [
        "print ('Hola desde la consola')"
      ]
    },
    {
      "cell_type": "code",
      "execution_count": 6,
      "metadata": {},
      "outputs": [
        {
          "name": "stdout",
          "output_type": "stream",
          "text": [
            "6\n"
          ]
        }
      ],
      "source": [
        "sum = 1 + 2 # 3\n",
        "product = sum * 2\n",
        "print(product)"
      ]
    },
    {
      "cell_type": "code",
      "execution_count": 7,
      "metadata": {},
      "outputs": [
        {
          "data": {
            "text/plain": [
              "float"
            ]
          },
          "execution_count": 7,
          "metadata": {},
          "output_type": "execute_result"
        }
      ],
      "source": [
        "# Declaramos la variable\n",
        "distancia_a_alfa_centauri = 4.367\n",
        "\n",
        "# Descubrimos su tipo de dato\n",
        "type(distancia_a_alfa_centauri)"
      ]
    },
    {
      "cell_type": "markdown",
      "metadata": {},
      "source": [
        "# Importamos la biblioteca "
      ]
    },
    {
      "cell_type": "code",
      "execution_count": null,
      "metadata": {},
      "outputs": [],
      "source": []
    },
    {
      "cell_type": "code",
      "execution_count": 8,
      "metadata": {},
      "outputs": [],
      "source": [
        "from datetime import date"
      ]
    },
    {
      "cell_type": "markdown",
      "metadata": {},
      "source": [
        "# Obtenemos la fecha de hoy"
      ]
    },
    {
      "cell_type": "code",
      "execution_count": 9,
      "metadata": {},
      "outputs": [
        {
          "data": {
            "text/plain": [
              "datetime.date(2022, 2, 11)"
            ]
          },
          "execution_count": 9,
          "metadata": {},
          "output_type": "execute_result"
        }
      ],
      "source": [
        "date.today()"
      ]
    },
    {
      "cell_type": "markdown",
      "metadata": {},
      "source": [
        "# Mostramos la fecha en la consola"
      ]
    },
    {
      "cell_type": "code",
      "execution_count": 10,
      "metadata": {},
      "outputs": [
        {
          "name": "stdout",
          "output_type": "stream",
          "text": [
            "2022-02-11\n"
          ]
        }
      ],
      "source": [
        "print(date.today())"
      ]
    },
    {
      "cell_type": "markdown",
      "metadata": {},
      "source": [
        "Conversión de tipos de datos"
      ]
    },
    {
      "cell_type": "code",
      "execution_count": 11,
      "metadata": {},
      "outputs": [
        {
          "name": "stdout",
          "output_type": "stream",
          "text": [
            "Today`s date is: 2022-02-11\n"
          ]
        }
      ],
      "source": [
        "print(\"Today`s date is: \" + str(date.today()))"
      ]
    },
    {
      "cell_type": "markdown",
      "metadata": {},
      "source": [
        "# Escribe tu código aquí"
      ]
    },
    {
      "cell_type": "code",
      "execution_count": 12,
      "metadata": {},
      "outputs": [
        {
          "name": "stdout",
          "output_type": "stream",
          "text": [
            "Bienvenido al programa de bienvenida\n",
            "Saludos: \n"
          ]
        }
      ],
      "source": [
        "print(\"Bienvenido al programa de bienvenida\")\n",
        "name = input(\"Diana\")\n",
        "print(\"Saludos: \" + name)"
      ]
    },
    {
      "cell_type": "code",
      "execution_count": 14,
      "metadata": {},
      "outputs": [
        {
          "name": "stdout",
          "output_type": "stream",
          "text": [
            "Calculadora\n"
          ]
        },
        {
          "ename": "NameError",
          "evalue": "name 'first_numbe' is not defined",
          "output_type": "error",
          "traceback": [
            "\u001b[1;31m---------------------------------------------------------------------------\u001b[0m",
            "\u001b[1;31mNameError\u001b[0m                                 Traceback (most recent call last)",
            "\u001b[1;32mc:\\Users\\diana\\OneDrive\\LauncheX 2022\\Módulo 1 - Primeros pasos\\Modulo1Katas.ipynb Cell 18'\u001b[0m in \u001b[0;36m<module>\u001b[1;34m\u001b[0m\n\u001b[0;32m      <a href='vscode-notebook-cell:/c%3A/Users/diana/OneDrive/LauncheX%202022/M%C3%B3dulo%201%20-%20Primeros%20pasos/Modulo1Katas.ipynb#ch0000017?line=1'>2</a>\u001b[0m first_number \u001b[39m=\u001b[39m \u001b[39minput\u001b[39m(\u001b[39m\"\u001b[39m\u001b[39mPrimer número:\u001b[39m\u001b[39m\"\u001b[39m)\n\u001b[0;32m      <a href='vscode-notebook-cell:/c%3A/Users/diana/OneDrive/LauncheX%202022/M%C3%B3dulo%201%20-%20Primeros%20pasos/Modulo1Katas.ipynb#ch0000017?line=2'>3</a>\u001b[0m second_number \u001b[39m=\u001b[39m \u001b[39minput\u001b[39m(\u001b[39m\"\u001b[39m\u001b[39mSegundo número:\u001b[39m\u001b[39m\"\u001b[39m)\n\u001b[1;32m----> <a href='vscode-notebook-cell:/c%3A/Users/diana/OneDrive/LauncheX%202022/M%C3%B3dulo%201%20-%20Primeros%20pasos/Modulo1Katas.ipynb#ch0000017?line=3'>4</a>\u001b[0m \u001b[39mprint\u001b[39m(\u001b[39mint\u001b[39m(first_numbe) \u001b[39m+\u001b[39m \u001b[39mint\u001b[39m(second_number))\n",
            "\u001b[1;31mNameError\u001b[0m: name 'first_numbe' is not defined"
          ]
        }
      ],
      "source": [
        "print(\"Calculadora\")\n",
        "first_number = input(\"Primer número:\")\n",
        "second_number = input(\"Segundo número:\")\n",
        "print(int(first_numbe) + int(second_number))"
      ]
    },
    {
      "cell_type": "markdown",
      "metadata": {},
      "source": [
        "Oficial superior> \"¿Cadete?\"\n",
        "\n",
        "Usted > \"¿Sí, señora?\"\n",
        "\n",
        "Oficial superior> \"¿Puedes construir un programa que me muestre la fecha? La computadora del barco no venía con mucho en términos de programas de utilidad, por lo que necesitamos crear los que necesitamos. ¿Puedo confiar en ti con esto?\"\n",
        "\n",
        "Usted > \"Considéralo hecho\".\n",
        "\n",
        "Oficial superior> \"Excelente\".\n",
        "\n",
        "## Tu primer programa\n",
        "\n",
        "Para crear este programa, deberás utilizar los conceptos que aprendiste en el último módulo. Usarás Jupyter Notebook en este ejercicio, que es una combinación de texto y código con la que puede interactuar. Finaliza el código siguiente para que el resultado muestre la fecha de hoy."
      ]
    },
    {
      "cell_type": "code",
      "execution_count": 15,
      "metadata": {},
      "outputs": [
        {
          "name": "stdout",
          "output_type": "stream",
          "text": [
            "Today`s date is: 2022-02-11\n"
          ]
        }
      ],
      "source": [
        "from datetime import date\n",
        "\n",
        "print(\"Today`s date is: \" + str(date.today()))"
      ]
    },
    {
      "cell_type": "markdown",
      "metadata": {},
      "source": [
        "> **TIP**\n",
        "> Dedique unos minutos a tratar de encontrar una solución. Luego desplácese hacia abajo hasta la parte inferior para ver si ha logrado compilar el programa de acuerdo con las especificaciones.\n",
        "\n",
        "## Construir un convertidor de unidades\n",
        "\n",
        "El oficial superior> \"Necesito una cosa más: un programa de conversión entre parsecs y años luz. Tener un programa de este tipo podría ser realmente útil en el puente para trazar nuestro curso\".\n",
        "\n",
        "Tú> \"¡Lo haré!\"\n"
      ]
    },
    {
      "cell_type": "code",
      "execution_count": 16,
      "metadata": {},
      "outputs": [
        {
          "name": "stdout",
          "output_type": "stream",
          "text": [
            "11 parsec, is 35.877159999999996 lightyears\n"
          ]
        }
      ],
      "source": [
        "parsec = 11\n",
        "\n",
        "lightyears = 3.26156 * parsec\n",
        "\n",
        "print(str(parsec) + \" parsec, is \" + str(lightyears) + \" lightyears\")"
      ]
    },
    {
      "cell_type": "markdown",
      "metadata": {},
      "source": [
        "> [!TIP]\n",
        "> 1 parsec es 3.26156 años luz. Utiliza el operador de multiplicación."
      ]
    }
  ],
  "metadata": {
    "interpreter": {
      "hash": "3884c4fde4525a441d9193ce18d64729e65646cefc6cf170c995ed416e7759a9"
    },
    "kernel_info": {
      "name": "conda-env-py37_default-py"
    },
    "kernelspec": {
      "display_name": "py37_default",
      "language": "python",
      "name": "python3"
    },
    "language_info": {
      "codemirror_mode": {
        "name": "ipython",
        "version": 3
      },
      "file_extension": ".py",
      "mimetype": "text/x-python",
      "name": "python",
      "nbconvert_exporter": "python",
      "pygments_lexer": "ipython3",
      "version": "3.10.2"
    },
    "nteract": {
      "version": "nteract-front-end@1.0.0"
    },
    "orig_nbformat": 4
  },
  "nbformat": 4,
  "nbformat_minor": 2
}
